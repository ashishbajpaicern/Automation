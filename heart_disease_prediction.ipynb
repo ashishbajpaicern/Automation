{
  "nbformat": 4,
  "nbformat_minor": 0,
  "metadata": {
    "colab": {
      "provenance": [],
      "authorship_tag": "ABX9TyNLCNGmJQpdLFbakwEMb4jQ",
      "include_colab_link": true
    },
    "kernelspec": {
      "name": "python3",
      "display_name": "Python 3"
    },
    "language_info": {
      "name": "python"
    }
  },
  "cells": [
    {
      "cell_type": "markdown",
      "metadata": {
        "id": "view-in-github",
        "colab_type": "text"
      },
      "source": [
        "<a href=\"https://colab.research.google.com/github/ashishbajpaicern/Automation/blob/main/heart_disease_prediction.ipynb\" target=\"_parent\"><img src=\"https://colab.research.google.com/assets/colab-badge.svg\" alt=\"Open In Colab\"/></a>"
      ]
    },
    {
      "cell_type": "code",
      "execution_count": null,
      "metadata": {
        "id": "r3S3myBRYhqX"
      },
      "outputs": [],
      "source": [
        "import pandas as pd\n",
        "import numpy as np\n",
        "from sklearn.model_selection import train_test_split\n",
        "from sklearn.linear_model import LogisticRegression\n",
        "from sklearn.metrics import accuracy_score"
      ]
    },
    {
      "cell_type": "code",
      "source": [
        "heart_data = pd.read_csv(\"/content/heart_disease_data.csv\")"
      ],
      "metadata": {
        "id": "lHO56VpPZy5J"
      },
      "execution_count": null,
      "outputs": []
    },
    {
      "cell_type": "code",
      "source": [
        "heart_data.head()"
      ],
      "metadata": {
        "colab": {
          "base_uri": "https://localhost:8080/",
          "height": 206
        },
        "id": "uKGrLb-AaX7a",
        "outputId": "c9e54aa3-9b09-4576-996f-0f57eddc63a3"
      },
      "execution_count": null,
      "outputs": [
        {
          "output_type": "execute_result",
          "data": {
            "text/plain": [
              "   age  sex  cp  trestbps  chol  fbs  restecg  thalach  exang  oldpeak  slope  \\\n",
              "0   63    1   3       145   233    1        0      150      0      2.3      0   \n",
              "1   37    1   2       130   250    0        1      187      0      3.5      0   \n",
              "2   41    0   1       130   204    0        0      172      0      1.4      2   \n",
              "3   56    1   1       120   236    0        1      178      0      0.8      2   \n",
              "4   57    0   0       120   354    0        1      163      1      0.6      2   \n",
              "\n",
              "   ca  thal  target  \n",
              "0   0     1       1  \n",
              "1   0     2       1  \n",
              "2   0     2       1  \n",
              "3   0     2       1  \n",
              "4   0     2       1  "
            ],
            "text/html": [
              "\n",
              "  <div id=\"df-01ec3011-7724-4d22-97d7-8d572934e4d0\">\n",
              "    <div class=\"colab-df-container\">\n",
              "      <div>\n",
              "<style scoped>\n",
              "    .dataframe tbody tr th:only-of-type {\n",
              "        vertical-align: middle;\n",
              "    }\n",
              "\n",
              "    .dataframe tbody tr th {\n",
              "        vertical-align: top;\n",
              "    }\n",
              "\n",
              "    .dataframe thead th {\n",
              "        text-align: right;\n",
              "    }\n",
              "</style>\n",
              "<table border=\"1\" class=\"dataframe\">\n",
              "  <thead>\n",
              "    <tr style=\"text-align: right;\">\n",
              "      <th></th>\n",
              "      <th>age</th>\n",
              "      <th>sex</th>\n",
              "      <th>cp</th>\n",
              "      <th>trestbps</th>\n",
              "      <th>chol</th>\n",
              "      <th>fbs</th>\n",
              "      <th>restecg</th>\n",
              "      <th>thalach</th>\n",
              "      <th>exang</th>\n",
              "      <th>oldpeak</th>\n",
              "      <th>slope</th>\n",
              "      <th>ca</th>\n",
              "      <th>thal</th>\n",
              "      <th>target</th>\n",
              "    </tr>\n",
              "  </thead>\n",
              "  <tbody>\n",
              "    <tr>\n",
              "      <th>0</th>\n",
              "      <td>63</td>\n",
              "      <td>1</td>\n",
              "      <td>3</td>\n",
              "      <td>145</td>\n",
              "      <td>233</td>\n",
              "      <td>1</td>\n",
              "      <td>0</td>\n",
              "      <td>150</td>\n",
              "      <td>0</td>\n",
              "      <td>2.3</td>\n",
              "      <td>0</td>\n",
              "      <td>0</td>\n",
              "      <td>1</td>\n",
              "      <td>1</td>\n",
              "    </tr>\n",
              "    <tr>\n",
              "      <th>1</th>\n",
              "      <td>37</td>\n",
              "      <td>1</td>\n",
              "      <td>2</td>\n",
              "      <td>130</td>\n",
              "      <td>250</td>\n",
              "      <td>0</td>\n",
              "      <td>1</td>\n",
              "      <td>187</td>\n",
              "      <td>0</td>\n",
              "      <td>3.5</td>\n",
              "      <td>0</td>\n",
              "      <td>0</td>\n",
              "      <td>2</td>\n",
              "      <td>1</td>\n",
              "    </tr>\n",
              "    <tr>\n",
              "      <th>2</th>\n",
              "      <td>41</td>\n",
              "      <td>0</td>\n",
              "      <td>1</td>\n",
              "      <td>130</td>\n",
              "      <td>204</td>\n",
              "      <td>0</td>\n",
              "      <td>0</td>\n",
              "      <td>172</td>\n",
              "      <td>0</td>\n",
              "      <td>1.4</td>\n",
              "      <td>2</td>\n",
              "      <td>0</td>\n",
              "      <td>2</td>\n",
              "      <td>1</td>\n",
              "    </tr>\n",
              "    <tr>\n",
              "      <th>3</th>\n",
              "      <td>56</td>\n",
              "      <td>1</td>\n",
              "      <td>1</td>\n",
              "      <td>120</td>\n",
              "      <td>236</td>\n",
              "      <td>0</td>\n",
              "      <td>1</td>\n",
              "      <td>178</td>\n",
              "      <td>0</td>\n",
              "      <td>0.8</td>\n",
              "      <td>2</td>\n",
              "      <td>0</td>\n",
              "      <td>2</td>\n",
              "      <td>1</td>\n",
              "    </tr>\n",
              "    <tr>\n",
              "      <th>4</th>\n",
              "      <td>57</td>\n",
              "      <td>0</td>\n",
              "      <td>0</td>\n",
              "      <td>120</td>\n",
              "      <td>354</td>\n",
              "      <td>0</td>\n",
              "      <td>1</td>\n",
              "      <td>163</td>\n",
              "      <td>1</td>\n",
              "      <td>0.6</td>\n",
              "      <td>2</td>\n",
              "      <td>0</td>\n",
              "      <td>2</td>\n",
              "      <td>1</td>\n",
              "    </tr>\n",
              "  </tbody>\n",
              "</table>\n",
              "</div>\n",
              "      <button class=\"colab-df-convert\" onclick=\"convertToInteractive('df-01ec3011-7724-4d22-97d7-8d572934e4d0')\"\n",
              "              title=\"Convert this dataframe to an interactive table.\"\n",
              "              style=\"display:none;\">\n",
              "        \n",
              "  <svg xmlns=\"http://www.w3.org/2000/svg\" height=\"24px\"viewBox=\"0 0 24 24\"\n",
              "       width=\"24px\">\n",
              "    <path d=\"M0 0h24v24H0V0z\" fill=\"none\"/>\n",
              "    <path d=\"M18.56 5.44l.94 2.06.94-2.06 2.06-.94-2.06-.94-.94-2.06-.94 2.06-2.06.94zm-11 1L8.5 8.5l.94-2.06 2.06-.94-2.06-.94L8.5 2.5l-.94 2.06-2.06.94zm10 10l.94 2.06.94-2.06 2.06-.94-2.06-.94-.94-2.06-.94 2.06-2.06.94z\"/><path d=\"M17.41 7.96l-1.37-1.37c-.4-.4-.92-.59-1.43-.59-.52 0-1.04.2-1.43.59L10.3 9.45l-7.72 7.72c-.78.78-.78 2.05 0 2.83L4 21.41c.39.39.9.59 1.41.59.51 0 1.02-.2 1.41-.59l7.78-7.78 2.81-2.81c.8-.78.8-2.07 0-2.86zM5.41 20L4 18.59l7.72-7.72 1.47 1.35L5.41 20z\"/>\n",
              "  </svg>\n",
              "      </button>\n",
              "      \n",
              "  <style>\n",
              "    .colab-df-container {\n",
              "      display:flex;\n",
              "      flex-wrap:wrap;\n",
              "      gap: 12px;\n",
              "    }\n",
              "\n",
              "    .colab-df-convert {\n",
              "      background-color: #E8F0FE;\n",
              "      border: none;\n",
              "      border-radius: 50%;\n",
              "      cursor: pointer;\n",
              "      display: none;\n",
              "      fill: #1967D2;\n",
              "      height: 32px;\n",
              "      padding: 0 0 0 0;\n",
              "      width: 32px;\n",
              "    }\n",
              "\n",
              "    .colab-df-convert:hover {\n",
              "      background-color: #E2EBFA;\n",
              "      box-shadow: 0px 1px 2px rgba(60, 64, 67, 0.3), 0px 1px 3px 1px rgba(60, 64, 67, 0.15);\n",
              "      fill: #174EA6;\n",
              "    }\n",
              "\n",
              "    [theme=dark] .colab-df-convert {\n",
              "      background-color: #3B4455;\n",
              "      fill: #D2E3FC;\n",
              "    }\n",
              "\n",
              "    [theme=dark] .colab-df-convert:hover {\n",
              "      background-color: #434B5C;\n",
              "      box-shadow: 0px 1px 3px 1px rgba(0, 0, 0, 0.15);\n",
              "      filter: drop-shadow(0px 1px 2px rgba(0, 0, 0, 0.3));\n",
              "      fill: #FFFFFF;\n",
              "    }\n",
              "  </style>\n",
              "\n",
              "      <script>\n",
              "        const buttonEl =\n",
              "          document.querySelector('#df-01ec3011-7724-4d22-97d7-8d572934e4d0 button.colab-df-convert');\n",
              "        buttonEl.style.display =\n",
              "          google.colab.kernel.accessAllowed ? 'block' : 'none';\n",
              "\n",
              "        async function convertToInteractive(key) {\n",
              "          const element = document.querySelector('#df-01ec3011-7724-4d22-97d7-8d572934e4d0');\n",
              "          const dataTable =\n",
              "            await google.colab.kernel.invokeFunction('convertToInteractive',\n",
              "                                                     [key], {});\n",
              "          if (!dataTable) return;\n",
              "\n",
              "          const docLinkHtml = 'Like what you see? Visit the ' +\n",
              "            '<a target=\"_blank\" href=https://colab.research.google.com/notebooks/data_table.ipynb>data table notebook</a>'\n",
              "            + ' to learn more about interactive tables.';\n",
              "          element.innerHTML = '';\n",
              "          dataTable['output_type'] = 'display_data';\n",
              "          await google.colab.output.renderOutput(dataTable, element);\n",
              "          const docLink = document.createElement('div');\n",
              "          docLink.innerHTML = docLinkHtml;\n",
              "          element.appendChild(docLink);\n",
              "        }\n",
              "      </script>\n",
              "    </div>\n",
              "  </div>\n",
              "  "
            ]
          },
          "metadata": {},
          "execution_count": 4
        }
      ]
    },
    {
      "cell_type": "code",
      "source": [
        "heart_data.describe()"
      ],
      "metadata": {
        "colab": {
          "base_uri": "https://localhost:8080/",
          "height": 364
        },
        "id": "4vXfW7_maxvw",
        "outputId": "e63c20bd-e405-49af-b130-e8efd0bd5423"
      },
      "execution_count": null,
      "outputs": [
        {
          "output_type": "execute_result",
          "data": {
            "text/plain": [
              "              age         sex          cp    trestbps        chol         fbs  \\\n",
              "count  303.000000  303.000000  303.000000  303.000000  303.000000  303.000000   \n",
              "mean    54.366337    0.683168    0.966997  131.623762  246.264026    0.148515   \n",
              "std      9.082101    0.466011    1.032052   17.538143   51.830751    0.356198   \n",
              "min     29.000000    0.000000    0.000000   94.000000  126.000000    0.000000   \n",
              "25%     47.500000    0.000000    0.000000  120.000000  211.000000    0.000000   \n",
              "50%     55.000000    1.000000    1.000000  130.000000  240.000000    0.000000   \n",
              "75%     61.000000    1.000000    2.000000  140.000000  274.500000    0.000000   \n",
              "max     77.000000    1.000000    3.000000  200.000000  564.000000    1.000000   \n",
              "\n",
              "          restecg     thalach       exang     oldpeak       slope          ca  \\\n",
              "count  303.000000  303.000000  303.000000  303.000000  303.000000  303.000000   \n",
              "mean     0.528053  149.646865    0.326733    1.039604    1.399340    0.729373   \n",
              "std      0.525860   22.905161    0.469794    1.161075    0.616226    1.022606   \n",
              "min      0.000000   71.000000    0.000000    0.000000    0.000000    0.000000   \n",
              "25%      0.000000  133.500000    0.000000    0.000000    1.000000    0.000000   \n",
              "50%      1.000000  153.000000    0.000000    0.800000    1.000000    0.000000   \n",
              "75%      1.000000  166.000000    1.000000    1.600000    2.000000    1.000000   \n",
              "max      2.000000  202.000000    1.000000    6.200000    2.000000    4.000000   \n",
              "\n",
              "             thal      target  \n",
              "count  303.000000  303.000000  \n",
              "mean     2.313531    0.544554  \n",
              "std      0.612277    0.498835  \n",
              "min      0.000000    0.000000  \n",
              "25%      2.000000    0.000000  \n",
              "50%      2.000000    1.000000  \n",
              "75%      3.000000    1.000000  \n",
              "max      3.000000    1.000000  "
            ],
            "text/html": [
              "\n",
              "  <div id=\"df-dc4d945a-60c2-4bcc-b169-0f5d8349d971\">\n",
              "    <div class=\"colab-df-container\">\n",
              "      <div>\n",
              "<style scoped>\n",
              "    .dataframe tbody tr th:only-of-type {\n",
              "        vertical-align: middle;\n",
              "    }\n",
              "\n",
              "    .dataframe tbody tr th {\n",
              "        vertical-align: top;\n",
              "    }\n",
              "\n",
              "    .dataframe thead th {\n",
              "        text-align: right;\n",
              "    }\n",
              "</style>\n",
              "<table border=\"1\" class=\"dataframe\">\n",
              "  <thead>\n",
              "    <tr style=\"text-align: right;\">\n",
              "      <th></th>\n",
              "      <th>age</th>\n",
              "      <th>sex</th>\n",
              "      <th>cp</th>\n",
              "      <th>trestbps</th>\n",
              "      <th>chol</th>\n",
              "      <th>fbs</th>\n",
              "      <th>restecg</th>\n",
              "      <th>thalach</th>\n",
              "      <th>exang</th>\n",
              "      <th>oldpeak</th>\n",
              "      <th>slope</th>\n",
              "      <th>ca</th>\n",
              "      <th>thal</th>\n",
              "      <th>target</th>\n",
              "    </tr>\n",
              "  </thead>\n",
              "  <tbody>\n",
              "    <tr>\n",
              "      <th>count</th>\n",
              "      <td>303.000000</td>\n",
              "      <td>303.000000</td>\n",
              "      <td>303.000000</td>\n",
              "      <td>303.000000</td>\n",
              "      <td>303.000000</td>\n",
              "      <td>303.000000</td>\n",
              "      <td>303.000000</td>\n",
              "      <td>303.000000</td>\n",
              "      <td>303.000000</td>\n",
              "      <td>303.000000</td>\n",
              "      <td>303.000000</td>\n",
              "      <td>303.000000</td>\n",
              "      <td>303.000000</td>\n",
              "      <td>303.000000</td>\n",
              "    </tr>\n",
              "    <tr>\n",
              "      <th>mean</th>\n",
              "      <td>54.366337</td>\n",
              "      <td>0.683168</td>\n",
              "      <td>0.966997</td>\n",
              "      <td>131.623762</td>\n",
              "      <td>246.264026</td>\n",
              "      <td>0.148515</td>\n",
              "      <td>0.528053</td>\n",
              "      <td>149.646865</td>\n",
              "      <td>0.326733</td>\n",
              "      <td>1.039604</td>\n",
              "      <td>1.399340</td>\n",
              "      <td>0.729373</td>\n",
              "      <td>2.313531</td>\n",
              "      <td>0.544554</td>\n",
              "    </tr>\n",
              "    <tr>\n",
              "      <th>std</th>\n",
              "      <td>9.082101</td>\n",
              "      <td>0.466011</td>\n",
              "      <td>1.032052</td>\n",
              "      <td>17.538143</td>\n",
              "      <td>51.830751</td>\n",
              "      <td>0.356198</td>\n",
              "      <td>0.525860</td>\n",
              "      <td>22.905161</td>\n",
              "      <td>0.469794</td>\n",
              "      <td>1.161075</td>\n",
              "      <td>0.616226</td>\n",
              "      <td>1.022606</td>\n",
              "      <td>0.612277</td>\n",
              "      <td>0.498835</td>\n",
              "    </tr>\n",
              "    <tr>\n",
              "      <th>min</th>\n",
              "      <td>29.000000</td>\n",
              "      <td>0.000000</td>\n",
              "      <td>0.000000</td>\n",
              "      <td>94.000000</td>\n",
              "      <td>126.000000</td>\n",
              "      <td>0.000000</td>\n",
              "      <td>0.000000</td>\n",
              "      <td>71.000000</td>\n",
              "      <td>0.000000</td>\n",
              "      <td>0.000000</td>\n",
              "      <td>0.000000</td>\n",
              "      <td>0.000000</td>\n",
              "      <td>0.000000</td>\n",
              "      <td>0.000000</td>\n",
              "    </tr>\n",
              "    <tr>\n",
              "      <th>25%</th>\n",
              "      <td>47.500000</td>\n",
              "      <td>0.000000</td>\n",
              "      <td>0.000000</td>\n",
              "      <td>120.000000</td>\n",
              "      <td>211.000000</td>\n",
              "      <td>0.000000</td>\n",
              "      <td>0.000000</td>\n",
              "      <td>133.500000</td>\n",
              "      <td>0.000000</td>\n",
              "      <td>0.000000</td>\n",
              "      <td>1.000000</td>\n",
              "      <td>0.000000</td>\n",
              "      <td>2.000000</td>\n",
              "      <td>0.000000</td>\n",
              "    </tr>\n",
              "    <tr>\n",
              "      <th>50%</th>\n",
              "      <td>55.000000</td>\n",
              "      <td>1.000000</td>\n",
              "      <td>1.000000</td>\n",
              "      <td>130.000000</td>\n",
              "      <td>240.000000</td>\n",
              "      <td>0.000000</td>\n",
              "      <td>1.000000</td>\n",
              "      <td>153.000000</td>\n",
              "      <td>0.000000</td>\n",
              "      <td>0.800000</td>\n",
              "      <td>1.000000</td>\n",
              "      <td>0.000000</td>\n",
              "      <td>2.000000</td>\n",
              "      <td>1.000000</td>\n",
              "    </tr>\n",
              "    <tr>\n",
              "      <th>75%</th>\n",
              "      <td>61.000000</td>\n",
              "      <td>1.000000</td>\n",
              "      <td>2.000000</td>\n",
              "      <td>140.000000</td>\n",
              "      <td>274.500000</td>\n",
              "      <td>0.000000</td>\n",
              "      <td>1.000000</td>\n",
              "      <td>166.000000</td>\n",
              "      <td>1.000000</td>\n",
              "      <td>1.600000</td>\n",
              "      <td>2.000000</td>\n",
              "      <td>1.000000</td>\n",
              "      <td>3.000000</td>\n",
              "      <td>1.000000</td>\n",
              "    </tr>\n",
              "    <tr>\n",
              "      <th>max</th>\n",
              "      <td>77.000000</td>\n",
              "      <td>1.000000</td>\n",
              "      <td>3.000000</td>\n",
              "      <td>200.000000</td>\n",
              "      <td>564.000000</td>\n",
              "      <td>1.000000</td>\n",
              "      <td>2.000000</td>\n",
              "      <td>202.000000</td>\n",
              "      <td>1.000000</td>\n",
              "      <td>6.200000</td>\n",
              "      <td>2.000000</td>\n",
              "      <td>4.000000</td>\n",
              "      <td>3.000000</td>\n",
              "      <td>1.000000</td>\n",
              "    </tr>\n",
              "  </tbody>\n",
              "</table>\n",
              "</div>\n",
              "      <button class=\"colab-df-convert\" onclick=\"convertToInteractive('df-dc4d945a-60c2-4bcc-b169-0f5d8349d971')\"\n",
              "              title=\"Convert this dataframe to an interactive table.\"\n",
              "              style=\"display:none;\">\n",
              "        \n",
              "  <svg xmlns=\"http://www.w3.org/2000/svg\" height=\"24px\"viewBox=\"0 0 24 24\"\n",
              "       width=\"24px\">\n",
              "    <path d=\"M0 0h24v24H0V0z\" fill=\"none\"/>\n",
              "    <path d=\"M18.56 5.44l.94 2.06.94-2.06 2.06-.94-2.06-.94-.94-2.06-.94 2.06-2.06.94zm-11 1L8.5 8.5l.94-2.06 2.06-.94-2.06-.94L8.5 2.5l-.94 2.06-2.06.94zm10 10l.94 2.06.94-2.06 2.06-.94-2.06-.94-.94-2.06-.94 2.06-2.06.94z\"/><path d=\"M17.41 7.96l-1.37-1.37c-.4-.4-.92-.59-1.43-.59-.52 0-1.04.2-1.43.59L10.3 9.45l-7.72 7.72c-.78.78-.78 2.05 0 2.83L4 21.41c.39.39.9.59 1.41.59.51 0 1.02-.2 1.41-.59l7.78-7.78 2.81-2.81c.8-.78.8-2.07 0-2.86zM5.41 20L4 18.59l7.72-7.72 1.47 1.35L5.41 20z\"/>\n",
              "  </svg>\n",
              "      </button>\n",
              "      \n",
              "  <style>\n",
              "    .colab-df-container {\n",
              "      display:flex;\n",
              "      flex-wrap:wrap;\n",
              "      gap: 12px;\n",
              "    }\n",
              "\n",
              "    .colab-df-convert {\n",
              "      background-color: #E8F0FE;\n",
              "      border: none;\n",
              "      border-radius: 50%;\n",
              "      cursor: pointer;\n",
              "      display: none;\n",
              "      fill: #1967D2;\n",
              "      height: 32px;\n",
              "      padding: 0 0 0 0;\n",
              "      width: 32px;\n",
              "    }\n",
              "\n",
              "    .colab-df-convert:hover {\n",
              "      background-color: #E2EBFA;\n",
              "      box-shadow: 0px 1px 2px rgba(60, 64, 67, 0.3), 0px 1px 3px 1px rgba(60, 64, 67, 0.15);\n",
              "      fill: #174EA6;\n",
              "    }\n",
              "\n",
              "    [theme=dark] .colab-df-convert {\n",
              "      background-color: #3B4455;\n",
              "      fill: #D2E3FC;\n",
              "    }\n",
              "\n",
              "    [theme=dark] .colab-df-convert:hover {\n",
              "      background-color: #434B5C;\n",
              "      box-shadow: 0px 1px 3px 1px rgba(0, 0, 0, 0.15);\n",
              "      filter: drop-shadow(0px 1px 2px rgba(0, 0, 0, 0.3));\n",
              "      fill: #FFFFFF;\n",
              "    }\n",
              "  </style>\n",
              "\n",
              "      <script>\n",
              "        const buttonEl =\n",
              "          document.querySelector('#df-dc4d945a-60c2-4bcc-b169-0f5d8349d971 button.colab-df-convert');\n",
              "        buttonEl.style.display =\n",
              "          google.colab.kernel.accessAllowed ? 'block' : 'none';\n",
              "\n",
              "        async function convertToInteractive(key) {\n",
              "          const element = document.querySelector('#df-dc4d945a-60c2-4bcc-b169-0f5d8349d971');\n",
              "          const dataTable =\n",
              "            await google.colab.kernel.invokeFunction('convertToInteractive',\n",
              "                                                     [key], {});\n",
              "          if (!dataTable) return;\n",
              "\n",
              "          const docLinkHtml = 'Like what you see? Visit the ' +\n",
              "            '<a target=\"_blank\" href=https://colab.research.google.com/notebooks/data_table.ipynb>data table notebook</a>'\n",
              "            + ' to learn more about interactive tables.';\n",
              "          element.innerHTML = '';\n",
              "          dataTable['output_type'] = 'display_data';\n",
              "          await google.colab.output.renderOutput(dataTable, element);\n",
              "          const docLink = document.createElement('div');\n",
              "          docLink.innerHTML = docLinkHtml;\n",
              "          element.appendChild(docLink);\n",
              "        }\n",
              "      </script>\n",
              "    </div>\n",
              "  </div>\n",
              "  "
            ]
          },
          "metadata": {},
          "execution_count": 7
        }
      ]
    },
    {
      "cell_type": "code",
      "source": [
        "X = heart_data.drop(columns = \"target\",axis = 1)\n",
        "Y = heart_data['target']"
      ],
      "metadata": {
        "id": "ehZ-y-yKdM8A"
      },
      "execution_count": null,
      "outputs": []
    },
    {
      "cell_type": "code",
      "source": [
        "print(X)"
      ],
      "metadata": {
        "colab": {
          "base_uri": "https://localhost:8080/"
        },
        "id": "R30lVzV1d2lx",
        "outputId": "8a173583-75d6-4057-aeac-c2a1ac9de793"
      },
      "execution_count": null,
      "outputs": [
        {
          "output_type": "stream",
          "name": "stdout",
          "text": [
            "     age  sex  cp  trestbps  chol  fbs  restecg  thalach  exang  oldpeak  \\\n",
            "0     63    1   3       145   233    1        0      150      0      2.3   \n",
            "1     37    1   2       130   250    0        1      187      0      3.5   \n",
            "2     41    0   1       130   204    0        0      172      0      1.4   \n",
            "3     56    1   1       120   236    0        1      178      0      0.8   \n",
            "4     57    0   0       120   354    0        1      163      1      0.6   \n",
            "..   ...  ...  ..       ...   ...  ...      ...      ...    ...      ...   \n",
            "298   57    0   0       140   241    0        1      123      1      0.2   \n",
            "299   45    1   3       110   264    0        1      132      0      1.2   \n",
            "300   68    1   0       144   193    1        1      141      0      3.4   \n",
            "301   57    1   0       130   131    0        1      115      1      1.2   \n",
            "302   57    0   1       130   236    0        0      174      0      0.0   \n",
            "\n",
            "     slope  ca  thal  \n",
            "0        0   0     1  \n",
            "1        0   0     2  \n",
            "2        2   0     2  \n",
            "3        2   0     2  \n",
            "4        2   0     2  \n",
            "..     ...  ..   ...  \n",
            "298      1   0     3  \n",
            "299      1   0     3  \n",
            "300      1   2     3  \n",
            "301      1   1     3  \n",
            "302      1   1     2  \n",
            "\n",
            "[303 rows x 13 columns]\n"
          ]
        }
      ]
    },
    {
      "cell_type": "code",
      "source": [
        "print(Y)"
      ],
      "metadata": {
        "colab": {
          "base_uri": "https://localhost:8080/"
        },
        "id": "j6Jo0Vthd5xZ",
        "outputId": "d043da5b-8482-4a05-bc1d-b4c31f6538a7"
      },
      "execution_count": null,
      "outputs": [
        {
          "output_type": "stream",
          "name": "stdout",
          "text": [
            "0      1\n",
            "1      1\n",
            "2      1\n",
            "3      1\n",
            "4      1\n",
            "      ..\n",
            "298    0\n",
            "299    0\n",
            "300    0\n",
            "301    0\n",
            "302    0\n",
            "Name: target, Length: 303, dtype: int64\n"
          ]
        }
      ]
    },
    {
      "cell_type": "code",
      "source": [
        "X_train,X_test,Y_train,Y_test = train_test_split(X,Y,test_size = 0.2,stratify = Y,random_state = 2)"
      ],
      "metadata": {
        "id": "J6nEiGOSd9sY"
      },
      "execution_count": null,
      "outputs": []
    },
    {
      "cell_type": "code",
      "source": [
        "print(X_train)"
      ],
      "metadata": {
        "colab": {
          "base_uri": "https://localhost:8080/"
        },
        "id": "sRW1osrghRMG",
        "outputId": "130f3711-8798-4ed3-c114-401a5e6815e3"
      },
      "execution_count": null,
      "outputs": [
        {
          "output_type": "stream",
          "name": "stdout",
          "text": [
            "     age  sex  cp  trestbps  chol  fbs  restecg  thalach  exang  oldpeak  \\\n",
            "61    54    1   1       108   309    0        1      156      0      0.0   \n",
            "238   77    1   0       125   304    0        0      162      1      0.0   \n",
            "160   56    1   1       120   240    0        1      169      0      0.0   \n",
            "158   58    1   1       125   220    0        1      144      0      0.4   \n",
            "289   55    0   0       128   205    0        2      130      1      2.0   \n",
            "..   ...  ...  ..       ...   ...  ...      ...      ...    ...      ...   \n",
            "100   42    1   3       148   244    0        0      178      0      0.8   \n",
            "49    53    0   0       138   234    0        0      160      0      0.0   \n",
            "300   68    1   0       144   193    1        1      141      0      3.4   \n",
            "194   60    1   2       140   185    0        0      155      0      3.0   \n",
            "131   49    0   1       134   271    0        1      162      0      0.0   \n",
            "\n",
            "     slope  ca  thal  \n",
            "61       2   0     3  \n",
            "238      2   3     2  \n",
            "160      0   0     2  \n",
            "158      1   4     3  \n",
            "289      1   1     3  \n",
            "..     ...  ..   ...  \n",
            "100      2   2     2  \n",
            "49       2   0     2  \n",
            "300      1   2     3  \n",
            "194      1   0     2  \n",
            "131      1   0     2  \n",
            "\n",
            "[242 rows x 13 columns]\n"
          ]
        }
      ]
    },
    {
      "cell_type": "code",
      "source": [
        "print(X.shape, X_test.shape, X_train.shape)"
      ],
      "metadata": {
        "colab": {
          "base_uri": "https://localhost:8080/"
        },
        "id": "Y87rj0H3fTPf",
        "outputId": "352e6c40-6f33-4675-c231-16668d5f73f9"
      },
      "execution_count": null,
      "outputs": [
        {
          "output_type": "stream",
          "name": "stdout",
          "text": [
            "(303, 13) (61, 13) (242, 13)\n"
          ]
        }
      ]
    },
    {
      "cell_type": "code",
      "source": [
        "model = LogisticRegression()"
      ],
      "metadata": {
        "id": "09VzCdcCfgIP"
      },
      "execution_count": null,
      "outputs": []
    },
    {
      "cell_type": "code",
      "source": [
        "model.fit(X_train,Y_train)"
      ],
      "metadata": {
        "colab": {
          "base_uri": "https://localhost:8080/"
        },
        "id": "5EhbvoWsfxX3",
        "outputId": "8586a47a-8e8f-4e91-ceeb-6b4849ff2656"
      },
      "execution_count": null,
      "outputs": [
        {
          "output_type": "stream",
          "name": "stderr",
          "text": [
            "/usr/local/lib/python3.7/dist-packages/sklearn/linear_model/_logistic.py:818: ConvergenceWarning: lbfgs failed to converge (status=1):\n",
            "STOP: TOTAL NO. of ITERATIONS REACHED LIMIT.\n",
            "\n",
            "Increase the number of iterations (max_iter) or scale the data as shown in:\n",
            "    https://scikit-learn.org/stable/modules/preprocessing.html\n",
            "Please also refer to the documentation for alternative solver options:\n",
            "    https://scikit-learn.org/stable/modules/linear_model.html#logistic-regression\n",
            "  extra_warning_msg=_LOGISTIC_SOLVER_CONVERGENCE_MSG,\n"
          ]
        },
        {
          "output_type": "execute_result",
          "data": {
            "text/plain": [
              "LogisticRegression()"
            ]
          },
          "metadata": {},
          "execution_count": 21
        }
      ]
    },
    {
      "cell_type": "code",
      "source": [
        "print(X_train)"
      ],
      "metadata": {
        "colab": {
          "base_uri": "https://localhost:8080/"
        },
        "id": "_IzmA1aHiUXH",
        "outputId": "8d550f81-d333-4366-b2cc-e55ea25fda8d"
      },
      "execution_count": null,
      "outputs": [
        {
          "output_type": "stream",
          "name": "stdout",
          "text": [
            "     age  sex  cp  trestbps  chol  fbs  restecg  thalach  exang  oldpeak  \\\n",
            "61    54    1   1       108   309    0        1      156      0      0.0   \n",
            "238   77    1   0       125   304    0        0      162      1      0.0   \n",
            "160   56    1   1       120   240    0        1      169      0      0.0   \n",
            "158   58    1   1       125   220    0        1      144      0      0.4   \n",
            "289   55    0   0       128   205    0        2      130      1      2.0   \n",
            "..   ...  ...  ..       ...   ...  ...      ...      ...    ...      ...   \n",
            "100   42    1   3       148   244    0        0      178      0      0.8   \n",
            "49    53    0   0       138   234    0        0      160      0      0.0   \n",
            "300   68    1   0       144   193    1        1      141      0      3.4   \n",
            "194   60    1   2       140   185    0        0      155      0      3.0   \n",
            "131   49    0   1       134   271    0        1      162      0      0.0   \n",
            "\n",
            "     slope  ca  thal  \n",
            "61       2   0     3  \n",
            "238      2   3     2  \n",
            "160      0   0     2  \n",
            "158      1   4     3  \n",
            "289      1   1     3  \n",
            "..     ...  ..   ...  \n",
            "100      2   2     2  \n",
            "49       2   0     2  \n",
            "300      1   2     3  \n",
            "194      1   0     2  \n",
            "131      1   0     2  \n",
            "\n",
            "[242 rows x 13 columns]\n"
          ]
        }
      ]
    },
    {
      "cell_type": "code",
      "source": [
        "X_train_prediction = model.predict(X_train)\n",
        "training_data_accuracy = accuracy_score(X_train_prediction,Y_train)"
      ],
      "metadata": {
        "id": "zK7JkkprgTCm"
      },
      "execution_count": null,
      "outputs": []
    },
    {
      "cell_type": "code",
      "source": [
        "print(training_data_accuracy)"
      ],
      "metadata": {
        "colab": {
          "base_uri": "https://localhost:8080/"
        },
        "id": "NJgt4nEvhWgf",
        "outputId": "b3c4cfbb-6a24-43cd-f5d4-727935938603"
      },
      "execution_count": null,
      "outputs": [
        {
          "output_type": "stream",
          "name": "stdout",
          "text": [
            "0.8512396694214877\n"
          ]
        }
      ]
    },
    {
      "cell_type": "markdown",
      "source": [
        "# Ant colony optimization (ACO)"
      ],
      "metadata": {
        "id": "vTKJcX1P61iP"
      }
    },
    {
      "cell_type": "markdown",
      "source": [
        "In computer science and operations research, the ant colony optimization algorithm (ACO) is a probabilistic technique for solving computational problems which can be reduced to finding good paths through graphs. Artificial ants stand for multi-agent methods inspired by the behavior of real ants. The pheromone-based communication of biological ants is often the predominant paradigm used.[2] Combinations of artificial ants and local search algorithms have become a method of choice for numerous optimization tasks involving some sort of graph, e.g., vehicle routing and internet routing."
      ],
      "metadata": {
        "id": "SXT4EBEQAOE_"
      }
    },
    {
      "cell_type": "markdown",
      "source": [
        "# Edge selection"
      ],
      "metadata": {
        "id": "OQTAyOZMAc8n"
      }
    },
    {
      "cell_type": "markdown",
      "source": [
        "Each ant needs to construct a solution to move through the graph. To select the next edge in its tour, an ant will consider the length of each edge available from its current position, as well as the corresponding pheromone level. At each step of the algorithm, each ant moves from a state {\\displaystyle x}x to state {\\displaystyle y}y, corresponding to a more complete intermediate solution. Thus, each ant {\\displaystyle k}k computes a set {\\displaystyle A_{k}(x)}A_{k}(x) of feasible expansions to its current state in each iteration, and moves to one of these in probability. For ant {\\displaystyle k}k, the probability {\\displaystyle p_{xy}^{k}}p_{xy}^{k} of moving from state {\\displaystyle x}x to state {\\displaystyle y}y depends on the combination of two values, the attractiveness {\\displaystyle \\eta _{xy}}\\eta _{xy} of the move, as computed by some heuristic indicating the a priori desirability of that move and the trail level {\\displaystyle \\tau _{xy}}\\tau _{xy} of the move, indicating how proficient it has been in the past to make that particular move. The trail level represents a posteriori indication of the desirability of that move.\n",
        "\n",
        "In general, the {\\displaystyle k}kth ant moves from state {\\displaystyle x}x to state {\\displaystyle y}y with probability"
      ],
      "metadata": {
        "id": "GgkCYy7AA50e"
      }
    },
    {
      "cell_type": "markdown",
      "source": [
        "![image.png](data:image/png;base64,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)"
      ],
      "metadata": {
        "id": "J6K4QPFhAu3P"
      }
    },
    {
      "cell_type": "markdown",
      "source": [
        "# Pseudocode:"
      ],
      "metadata": {
        "id": "WEKgD4xMA89e"
      }
    },
    {
      "cell_type": "markdown",
      "source": [
        "\n",
        "\n",
        "```\n",
        "# Procedure AntColonyOptimization:\n",
        "    Initialize necessary parameters and pheromone trials;\n",
        "    while not termination do:\n",
        "        Generate ant population;\n",
        "        Calculate fitness values associated with each ant;\n",
        "        Find best solution through selection methods;\n",
        "        Update pheromone trial;\n",
        "    end while\n",
        "end procedure\n",
        "```\n",
        "\n"
      ],
      "metadata": {
        "id": "P_ffdfgnBSdP"
      }
    }
  ]
}